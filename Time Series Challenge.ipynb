{
 "cells": [
  {
   "cell_type": "code",
   "execution_count": 1,
   "metadata": {},
   "outputs": [],
   "source": [
    "import numpy as np\n",
    "import pandas as pd\n",
    "import scipy\n",
    "from datetime import datetime\n",
    "import datetime as dt\n",
    "import matplotlib.pyplot as plt\n",
    "%matplotlib inline"
   ]
  },
  {
   "cell_type": "code",
   "execution_count": 2,
   "metadata": {},
   "outputs": [
    {
     "data": {
      "text/html": [
       "<div>\n",
       "<style scoped>\n",
       "    .dataframe tbody tr th:only-of-type {\n",
       "        vertical-align: middle;\n",
       "    }\n",
       "\n",
       "    .dataframe tbody tr th {\n",
       "        vertical-align: top;\n",
       "    }\n",
       "\n",
       "    .dataframe thead th {\n",
       "        text-align: right;\n",
       "    }\n",
       "</style>\n",
       "<table border=\"1\" class=\"dataframe\">\n",
       "  <thead>\n",
       "    <tr style=\"text-align: right;\">\n",
       "      <th></th>\n",
       "      <th>DATE</th>\n",
       "      <th>GDPC1</th>\n",
       "    </tr>\n",
       "  </thead>\n",
       "  <tbody>\n",
       "    <tr>\n",
       "      <td>0</td>\n",
       "      <td>1947-01-01</td>\n",
       "      <td>2033.061</td>\n",
       "    </tr>\n",
       "    <tr>\n",
       "      <td>1</td>\n",
       "      <td>1947-04-01</td>\n",
       "      <td>2027.639</td>\n",
       "    </tr>\n",
       "    <tr>\n",
       "      <td>2</td>\n",
       "      <td>1947-07-01</td>\n",
       "      <td>2023.452</td>\n",
       "    </tr>\n",
       "    <tr>\n",
       "      <td>3</td>\n",
       "      <td>1947-10-01</td>\n",
       "      <td>2055.103</td>\n",
       "    </tr>\n",
       "    <tr>\n",
       "      <td>4</td>\n",
       "      <td>1948-01-01</td>\n",
       "      <td>2086.017</td>\n",
       "    </tr>\n",
       "  </tbody>\n",
       "</table>\n",
       "</div>"
      ],
      "text/plain": [
       "         DATE     GDPC1\n",
       "0  1947-01-01  2033.061\n",
       "1  1947-04-01  2027.639\n",
       "2  1947-07-01  2023.452\n",
       "3  1947-10-01  2055.103\n",
       "4  1948-01-01  2086.017"
      ]
     },
     "execution_count": 2,
     "metadata": {},
     "output_type": "execute_result"
    }
   ],
   "source": [
    "gdp = pd.read_csv('https://raw.githubusercontent.com/mdibble2/Thinkful-assignments/master/GDPC1.csv')\n",
    "gdp.head()\n",
    "#GDP is in billions of USD"
   ]
  },
  {
   "cell_type": "code",
   "execution_count": 3,
   "metadata": {},
   "outputs": [
    {
     "data": {
      "text/html": [
       "<div>\n",
       "<style scoped>\n",
       "    .dataframe tbody tr th:only-of-type {\n",
       "        vertical-align: middle;\n",
       "    }\n",
       "\n",
       "    .dataframe tbody tr th {\n",
       "        vertical-align: top;\n",
       "    }\n",
       "\n",
       "    .dataframe thead th {\n",
       "        text-align: right;\n",
       "    }\n",
       "</style>\n",
       "<table border=\"1\" class=\"dataframe\">\n",
       "  <thead>\n",
       "    <tr style=\"text-align: right;\">\n",
       "      <th></th>\n",
       "      <th>GDPC1</th>\n",
       "    </tr>\n",
       "  </thead>\n",
       "  <tbody>\n",
       "    <tr>\n",
       "      <td>count</td>\n",
       "      <td>292.000000</td>\n",
       "    </tr>\n",
       "    <tr>\n",
       "      <td>mean</td>\n",
       "      <td>8683.839757</td>\n",
       "    </tr>\n",
       "    <tr>\n",
       "      <td>std</td>\n",
       "      <td>5154.251617</td>\n",
       "    </tr>\n",
       "    <tr>\n",
       "      <td>min</td>\n",
       "      <td>2023.452000</td>\n",
       "    </tr>\n",
       "    <tr>\n",
       "      <td>25%</td>\n",
       "      <td>4100.799500</td>\n",
       "    </tr>\n",
       "    <tr>\n",
       "      <td>50%</td>\n",
       "      <td>7119.439000</td>\n",
       "    </tr>\n",
       "    <tr>\n",
       "      <td>75%</td>\n",
       "      <td>13285.640250</td>\n",
       "    </tr>\n",
       "    <tr>\n",
       "      <td>max</td>\n",
       "      <td>19221.970000</td>\n",
       "    </tr>\n",
       "  </tbody>\n",
       "</table>\n",
       "</div>"
      ],
      "text/plain": [
       "              GDPC1\n",
       "count    292.000000\n",
       "mean    8683.839757\n",
       "std     5154.251617\n",
       "min     2023.452000\n",
       "25%     4100.799500\n",
       "50%     7119.439000\n",
       "75%    13285.640250\n",
       "max    19221.970000"
      ]
     },
     "execution_count": 3,
     "metadata": {},
     "output_type": "execute_result"
    }
   ],
   "source": [
    "gdp.describe()"
   ]
  },
  {
   "cell_type": "code",
   "execution_count": 14,
   "metadata": {},
   "outputs": [
    {
     "data": {
      "image/png": "[encoded data removed]",
      "text/plain": [
       "<Figure size 432x288 with 1 Axes>"
      ]
     },
     "metadata": {
      "needs_background": "light"
     },
     "output_type": "display_data"
    }
   ],
   "source": [
    "date = pd.to_datetime(gdp.DATE)\n",
    "plt.plot(date,gdp.GDPC1)\n",
    "plt.title('US GDP Time Series');"
   ]
  },
  {
   "cell_type": "code",
   "execution_count": 15,
   "metadata": {},
   "outputs": [
    {
     "data": {
      "image/png": "[encoded data removed]",
      "text/plain": [
       "<Figure size 432x288 with 1 Axes>"
      ]
     },
     "metadata": {
      "needs_background": "light"
     },
     "output_type": "display_data"
    }
   ],
   "source": [
    "#plot differences\n",
    "gdp['diff_1'] = gdp.GDPC1 - gdp.GDPC1.shift()\n",
    "plt.plot(date,gdp.diff_1)\n",
    "plt.title('US GDP Time Series Differences')\n",
    "plt.show()"
   ]
  },
  {
   "cell_type": "code",
   "execution_count": 20,
   "metadata": {},
   "outputs": [
    {
     "data": {
      "image/png": "[encoded data removed]",
      "text/plain": [
       "<Figure size 432x288 with 1 Axes>"
      ]
     },
     "metadata": {
      "needs_background": "light"
     },
     "output_type": "display_data"
    }
   ],
   "source": [
    "from statsmodels.tsa.stattools import pacf\n",
    "x_acf = pd.DataFrame(pacf(gdp.GDPC1))\n",
    "x_acf.plot(kind='bar')\n",
    "plt.title(\"GDP PACF\");"
   ]
  },
  {
   "cell_type": "markdown",
   "metadata": {},
   "source": [
    "There is an outlier at position 1"
   ]
  },
  {
   "cell_type": "code",
   "execution_count": 21,
   "metadata": {},
   "outputs": [
    {
     "name": "stdout",
     "output_type": "stream",
     "text": [
      "                             ARIMA Model Results                              \n",
      "==============================================================================\n",
      "Dep. Variable:                D.GDPC1   No. Observations:                  291\n",
      "Model:                 ARIMA(0, 1, 0)   Log Likelihood               -1642.012\n",
      "Method:                           css   S.D. of innovations             68.287\n",
      "Date:                Thu, 16 Apr 2020   AIC                           3288.024\n",
      "Time:                        09:06:21   BIC                           3295.371\n",
      "Sample:                             1   HQIC                          3290.967\n",
      "                                                                              \n",
      "==============================================================================\n",
      "                 coef    std err          z      P>|z|      [0.025      0.975]\n",
      "------------------------------------------------------------------------------\n",
      "const         59.0684      4.003     14.756      0.000      51.223      66.914\n",
      "==============================================================================\n",
      "Residuals Description\n",
      "count    2.910000e+02\n",
      "mean     5.000658e-14\n",
      "std      6.840428e+01\n",
      "min     -3.980734e+02\n",
      "25%     -3.944642e+01\n",
      "50%      8.515842e-01\n",
      "75%      3.921108e+01\n",
      "max      1.855306e+02\n",
      "dtype: float64\n"
     ]
    }
   ],
   "source": [
    "from statsmodels.tsa.arima_model import ARIMA\n",
    "\n",
    "model = ARIMA(gdp.GDPC1, order=(0,1,0))\n",
    "model_fit = model.fit()\n",
    "print(model_fit.summary())\n",
    "print('Residuals Description')\n",
    "print(model_fit.resid.describe())"
   ]
  },
  {
   "cell_type": "code",
   "execution_count": 22,
   "metadata": {},
   "outputs": [
    {
     "name": "stdout",
     "output_type": "stream",
     "text": [
      "                              ARMA Model Results                              \n",
      "==============================================================================\n",
      "Dep. Variable:                  GDPC1   No. Observations:                  292\n",
      "Model:                     ARMA(1, 0)   Log Likelihood               -1738.125\n",
      "Method:                       css-mle   S.D. of innovations             90.134\n",
      "Date:                Thu, 16 Apr 2020   AIC                           3482.250\n",
      "Time:                        09:07:31   BIC                           3493.280\n",
      "Sample:                             0   HQIC                          3486.668\n",
      "                                                                              \n",
      "===============================================================================\n",
      "                  coef    std err          z      P>|z|      [0.025      0.975]\n",
      "-------------------------------------------------------------------------------\n",
      "const        8683.8416        nan        nan        nan         nan         nan\n",
      "ar.L1.GDPC1     1.0000        nan        nan        nan         nan         nan\n",
      "                                    Roots                                    \n",
      "=============================================================================\n",
      "                  Real          Imaginary           Modulus         Frequency\n",
      "-----------------------------------------------------------------------------\n",
      "AR.1            1.0000           +0.0000j            1.0000            0.0000\n",
      "-----------------------------------------------------------------------------\n",
      "Residuals Description\n",
      "count     292.000000\n",
      "mean       36.089481\n",
      "std       398.557712\n",
      "min     -6650.780566\n",
      "25%        19.088731\n",
      "50%        59.742507\n",
      "75%        98.092255\n",
      "max       244.598992\n",
      "dtype: float64\n"
     ]
    },
    {
     "name": "stderr",
     "output_type": "stream",
     "text": [
      "/Users/megandibble/opt/anaconda3/lib/python3.7/site-packages/statsmodels/tsa/arima_model.py:1441: RuntimeWarning: invalid value encountered in sqrt\n",
      "  return np.sqrt(np.diag(-inv(hess)))\n",
      "/Users/megandibble/opt/anaconda3/lib/python3.7/site-packages/scipy/stats/_distn_infrastructure.py:901: RuntimeWarning: invalid value encountered in greater\n",
      "  return (a < x) & (x < b)\n",
      "/Users/megandibble/opt/anaconda3/lib/python3.7/site-packages/scipy/stats/_distn_infrastructure.py:901: RuntimeWarning: invalid value encountered in less\n",
      "  return (a < x) & (x < b)\n",
      "/Users/megandibble/opt/anaconda3/lib/python3.7/site-packages/scipy/stats/_distn_infrastructure.py:1892: RuntimeWarning: invalid value encountered in less_equal\n",
      "  cond2 = cond0 & (x <= _a)\n"
     ]
    }
   ],
   "source": [
    "model2 = ARIMA(gdp.GDPC1, order=(1,0,0))\n",
    "model_fit2 = model2.fit()\n",
    "print(model_fit2.summary())\n",
    "print('Residuals Description')\n",
    "print(model_fit2.resid.describe())"
   ]
  },
  {
   "cell_type": "code",
   "execution_count": 23,
   "metadata": {},
   "outputs": [
    {
     "name": "stdout",
     "output_type": "stream",
     "text": [
      "                             ARIMA Model Results                              \n",
      "==============================================================================\n",
      "Dep. Variable:                D.GDPC1   No. Observations:                  291\n",
      "Model:                 ARIMA(1, 1, 0)   Log Likelihood               -1614.584\n",
      "Method:                       css-mle   S.D. of innovations             62.124\n",
      "Date:                Thu, 16 Apr 2020   AIC                           3235.167\n",
      "Time:                        09:08:47   BIC                           3246.187\n",
      "Sample:                             1   HQIC                          3239.582\n",
      "                                                                              \n",
      "=================================================================================\n",
      "                    coef    std err          z      P>|z|      [0.025      0.975]\n",
      "---------------------------------------------------------------------------------\n",
      "const            59.0133      6.206      9.509      0.000      46.849      71.177\n",
      "ar.L1.D.GDPC1     0.4146      0.053      7.777      0.000       0.310       0.519\n",
      "                                    Roots                                    \n",
      "=============================================================================\n",
      "                  Real          Imaginary           Modulus         Frequency\n",
      "-----------------------------------------------------------------------------\n",
      "AR.1            2.4118           +0.0000j            2.4118            0.0000\n",
      "-----------------------------------------------------------------------------\n",
      "Residuals Description\n",
      "count    291.000000\n",
      "mean       0.091867\n",
      "std       62.250864\n",
      "min     -338.192590\n",
      "25%      -33.334030\n",
      "50%       -0.265747\n",
      "75%       35.196946\n",
      "max      209.922477\n",
      "dtype: float64\n"
     ]
    }
   ],
   "source": [
    "model3 = ARIMA(gdp.GDPC1, order=(1,1,0))\n",
    "model_fit3 = model3.fit()\n",
    "print(model_fit3.summary())\n",
    "print('Residuals Description')\n",
    "print(model_fit3.resid.describe())"
   ]
  },
  {
   "cell_type": "code",
   "execution_count": 24,
   "metadata": {},
   "outputs": [
    {
     "name": "stdout",
     "output_type": "stream",
     "text": [
      "                             ARIMA Model Results                              \n",
      "==============================================================================\n",
      "Dep. Variable:                D.GDPC1   No. Observations:                  291\n",
      "Model:                 ARIMA(1, 1, 1)   Log Likelihood               -1608.660\n",
      "Method:                       css-mle   S.D. of innovations             60.864\n",
      "Date:                Thu, 16 Apr 2020   AIC                           3225.320\n",
      "Time:                        09:10:39   BIC                           3240.014\n",
      "Sample:                             1   HQIC                          3231.207\n",
      "                                                                              \n",
      "=================================================================================\n",
      "                    coef    std err          z      P>|z|      [0.025      0.975]\n",
      "---------------------------------------------------------------------------------\n",
      "const            58.9443      8.283      7.116      0.000      42.710      75.178\n",
      "ar.L1.D.GDPC1     0.7483      0.077      9.739      0.000       0.598       0.899\n",
      "ma.L1.D.GDPC1    -0.4112      0.104     -3.948      0.000      -0.615      -0.207\n",
      "                                    Roots                                    \n",
      "=============================================================================\n",
      "                  Real          Imaginary           Modulus         Frequency\n",
      "-----------------------------------------------------------------------------\n",
      "AR.1            1.3363           +0.0000j            1.3363            0.0000\n",
      "MA.1            2.4322           +0.0000j            2.4322            0.0000\n",
      "-----------------------------------------------------------------------------\n",
      "Residuals Description\n",
      "count    291.000000\n",
      "mean       0.228810\n",
      "std       60.993481\n",
      "min     -345.072572\n",
      "25%      -34.204640\n",
      "50%        1.561107\n",
      "75%       33.285666\n",
      "max      202.465743\n",
      "dtype: float64\n"
     ]
    }
   ],
   "source": [
    "model4 = ARIMA(gdp.GDPC1, order=(1,1,1))\n",
    "model_fit4 = model4.fit()\n",
    "print(model_fit4.summary())\n",
    "print('Residuals Description')\n",
    "print(model_fit4.resid.describe())"
   ]
  },
  {
   "cell_type": "code",
   "execution_count": 25,
   "metadata": {},
   "outputs": [
    {
     "name": "stdout",
     "output_type": "stream",
     "text": [
      "                             ARIMA Model Results                              \n",
      "==============================================================================\n",
      "Dep. Variable:               D2.GDPC1   No. Observations:                  290\n",
      "Model:                 ARIMA(2, 2, 2)   Log Likelihood               -1599.785\n",
      "Method:                       css-mle   S.D. of innovations             59.712\n",
      "Date:                Thu, 16 Apr 2020   AIC                           3211.571\n",
      "Time:                        09:11:14   BIC                           3233.590\n",
      "Sample:                             2   HQIC                          3220.393\n",
      "                                                                              \n",
      "==================================================================================\n",
      "                     coef    std err          z      P>|z|      [0.025      0.975]\n",
      "----------------------------------------------------------------------------------\n",
      "const              0.2784      0.075      3.695      0.000       0.131       0.426\n",
      "ar.L1.D2.GDPC1     0.3022      0.307      0.986      0.325      -0.299       0.903\n",
      "ar.L2.D2.GDPC1     0.1589      0.119      1.334      0.183      -0.075       0.392\n",
      "ma.L1.D2.GDPC1    -1.0140      0.309     -3.283      0.001      -1.619      -0.409\n",
      "ma.L2.D2.GDPC1     0.0140      0.309      0.045      0.964      -0.591       0.619\n",
      "                                    Roots                                    \n",
      "=============================================================================\n",
      "                  Real          Imaginary           Modulus         Frequency\n",
      "-----------------------------------------------------------------------------\n",
      "AR.1            1.7320           +0.0000j            1.7320            0.0000\n",
      "AR.2           -3.6340           +0.0000j            3.6340            0.5000\n",
      "MA.1            1.0000           +0.0000j            1.0000            0.0000\n",
      "MA.2           71.3097           +0.0000j           71.3097            0.0000\n",
      "-----------------------------------------------------------------------------\n",
      "Residuals Description\n",
      "count    290.000000\n",
      "mean       0.540909\n",
      "std       60.046460\n",
      "min     -376.280380\n",
      "25%      -28.612758\n",
      "50%        2.258957\n",
      "75%       37.927833\n",
      "max      210.180174\n",
      "dtype: float64\n"
     ]
    }
   ],
   "source": [
    "model5 = ARIMA(gdp.GDPC1, order=(2,2,2))\n",
    "model_fit5 = model5.fit()\n",
    "print(model_fit5.summary())\n",
    "print('Residuals Description')\n",
    "print(model_fit5.resid.describe())"
   ]
  },
  {
   "cell_type": "code",
   "execution_count": 29,
   "metadata": {},
   "outputs": [
    {
     "data": {
      "image/png": "[encoded data removed]",
      "text/plain": [
       "<Figure size 432x288 with 1 Axes>"
      ]
     },
     "metadata": {
      "needs_background": "light"
     },
     "output_type": "display_data"
    }
   ],
   "source": [
    "#order 2,2,2 has the lowest AIC\n",
    "#check assumptions of residuals\n",
    "\n",
    "plt.hist(model_fit5.resid)\n",
    "plt.title('Histogram of Residuals');\n",
    "#relatively normal"
   ]
  },
  {
   "cell_type": "code",
   "execution_count": 33,
   "metadata": {},
   "outputs": [
    {
     "data": {
      "image/png": "[encoded data removed]",
      "text/plain": [
       "<Figure size 432x288 with 1 Axes>"
      ]
     },
     "metadata": {
      "needs_background": "light"
     },
     "output_type": "display_data"
    }
   ],
   "source": [
    "plt.plot(model_fit5.resid)\n",
    "plt.title('Residuals');"
   ]
  },
  {
   "cell_type": "code",
   "execution_count": 37,
   "metadata": {},
   "outputs": [
    {
     "name": "stdout",
     "output_type": "stream",
     "text": [
      "2.502938658682446e-17\n",
      "1.6706846646774124e-59\n",
      "7.518525929610396e-06\n",
      "0.001033584874628221\n"
     ]
    }
   ],
   "source": [
    "def infoloss(aic1,aic2):\n",
    "    return np.exp((aic1-aic2)/2)\n",
    "\n",
    "print(infoloss(model_fit5.aic, model_fit.aic))\n",
    "print(infoloss(model_fit5.aic, model_fit2.aic))\n",
    "print(infoloss(model_fit5.aic, model_fit3.aic))\n",
    "print(infoloss(model_fit5.aic, model_fit4.aic))"
   ]
  },
  {
   "cell_type": "markdown",
   "metadata": {},
   "source": [
    "All probabilities are small, so model 5 has the least information loss"
   ]
  },
  {
   "cell_type": "markdown",
   "metadata": {},
   "source": [
    "Interpreting the ARIMA (2,2,2) model"
   ]
  },
  {
   "cell_type": "code",
   "execution_count": 38,
   "metadata": {},
   "outputs": [
    {
     "name": "stdout",
     "output_type": "stream",
     "text": [
      "                             ARIMA Model Results                              \n",
      "==============================================================================\n",
      "Dep. Variable:               D2.GDPC1   No. Observations:                  290\n",
      "Model:                 ARIMA(2, 2, 2)   Log Likelihood               -1599.785\n",
      "Method:                       css-mle   S.D. of innovations             59.712\n",
      "Date:                Thu, 16 Apr 2020   AIC                           3211.571\n",
      "Time:                        09:18:36   BIC                           3233.590\n",
      "Sample:                             2   HQIC                          3220.393\n",
      "                                                                              \n",
      "==================================================================================\n",
      "                     coef    std err          z      P>|z|      [0.025      0.975]\n",
      "----------------------------------------------------------------------------------\n",
      "const              0.2784      0.075      3.695      0.000       0.131       0.426\n",
      "ar.L1.D2.GDPC1     0.3022      0.307      0.986      0.325      -0.299       0.903\n",
      "ar.L2.D2.GDPC1     0.1589      0.119      1.334      0.183      -0.075       0.392\n",
      "ma.L1.D2.GDPC1    -1.0140      0.309     -3.283      0.001      -1.619      -0.409\n",
      "ma.L2.D2.GDPC1     0.0140      0.309      0.045      0.964      -0.591       0.619\n",
      "                                    Roots                                    \n",
      "=============================================================================\n",
      "                  Real          Imaginary           Modulus         Frequency\n",
      "-----------------------------------------------------------------------------\n",
      "AR.1            1.7320           +0.0000j            1.7320            0.0000\n",
      "AR.2           -3.6340           +0.0000j            3.6340            0.5000\n",
      "MA.1            1.0000           +0.0000j            1.0000            0.0000\n",
      "MA.2           71.3097           +0.0000j           71.3097            0.0000\n",
      "-----------------------------------------------------------------------------\n"
     ]
    }
   ],
   "source": [
    "print(model_fit5.summary())"
   ]
  },
  {
   "cell_type": "markdown",
   "metadata": {},
   "source": [
    "Need help with interpretation...     \n",
    "AR1 coefficient is .30?"
   ]
  },
  {
   "cell_type": "code",
   "execution_count": null,
   "metadata": {},
   "outputs": [],
   "source": []
  }
 ],
 "metadata": {
  "kernelspec": {
   "display_name": "Python 3",
   "language": "python",
   "name": "python3"
  },
  "language_info": {
   "codemirror_mode": {
    "name": "ipython",
    "version": 3
   },
   "file_extension": ".py",
   "mimetype": "text/x-python",
   "name": "python",
   "nbconvert_exporter": "python",
   "pygments_lexer": "ipython3",
   "version": "3.7.4"
  }
 },
 "nbformat": 4,
 "nbformat_minor": 4
}
